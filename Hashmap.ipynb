{
 "cells": [
  {
   "cell_type": "code",
   "execution_count": 1,
   "id": "74b9126b",
   "metadata": {},
   "outputs": [],
   "source": [
    "class Hash_Map:\n",
    "    def __init__(self,map_len):\n",
    "        self.map_len=map_len\n",
    "        self.arr=[None for i in range(map_len)]\n",
    "    \n",
    "    def hashfunc(self,key):\n",
    "        return key%10\n",
    "    \n",
    "    def __setitem__(self,key,val):\n",
    "        hashval=self.hashfunc(key)\n",
    "        self.arr[hashval]=val\n",
    "    \n",
    "    def __getitem__(self,key):\n",
    "        hashval=self.hashfunc(key)\n",
    "        return self.arr[hashval]\n",
    "    def __delitem__(self,key):\n",
    "        hashval=self.hashfunc(key)\n",
    "        self.arr[hashval]=None\n",
    "        "
   ]
  },
  {
   "cell_type": "code",
   "execution_count": 2,
   "id": "3c63aff9",
   "metadata": {},
   "outputs": [],
   "source": [
    "hashmap=Hash_Map(10)\n",
    "hashmap[101]='Ganesh'\n",
    "hashmap[120]='Prathamesh'\n",
    "hashmap[107]='mohit'\n",
    "hashmap[129]='mukesh'\n",
    "hashmap[120]='Patil'"
   ]
  },
  {
   "cell_type": "code",
   "execution_count": 3,
   "id": "525840d6",
   "metadata": {},
   "outputs": [
    {
     "data": {
      "text/plain": [
       "'Ganesh'"
      ]
     },
     "execution_count": 3,
     "metadata": {},
     "output_type": "execute_result"
    }
   ],
   "source": [
    "hashmap[101]"
   ]
  },
  {
   "cell_type": "code",
   "execution_count": 4,
   "id": "db3bc771",
   "metadata": {},
   "outputs": [
    {
     "data": {
      "text/plain": [
       "['Patil', 'Ganesh', None, None, None, None, None, 'mohit', None, 'mukesh']"
      ]
     },
     "execution_count": 4,
     "metadata": {},
     "output_type": "execute_result"
    }
   ],
   "source": [
    "hashmap.arr"
   ]
  },
  {
   "cell_type": "markdown",
   "id": "b3c502af",
   "metadata": {},
   "source": [
    "# linear probing in hashing"
   ]
  },
  {
   "cell_type": "code",
   "execution_count": 5,
   "id": "1c0bcfff",
   "metadata": {},
   "outputs": [],
   "source": [
    "class Hash_Map:\n",
    "    def __init__(self,map_len):\n",
    "        self.map_len=map_len\n",
    "        self.arr=[None for i in range(map_len)]\n",
    "    \n",
    "    def hashfunc(self,key):\n",
    "        return key%10\n",
    "    \n",
    "    def check_vaccunt_place(self,hashval):\n",
    "        start=hashval\n",
    "        end=len(self.arr)\n",
    "        count=0\n",
    "        while(True):            \n",
    "            if(start>=end):\n",
    "                if(count>=len(self.arr)):\n",
    "                    print(\"all positions are fill\")\n",
    "                    return\n",
    "                end=hashval\n",
    "                start=0\n",
    "            \n",
    "            elif(self.arr[start]==None):\n",
    "                return start\n",
    "            else:\n",
    "                start+=1\n",
    "                count+=1\n",
    "                \n",
    "    def __setitem__(self,key,val):\n",
    "        hashval=self.hashfunc(key)\n",
    "        pos=self.check_vaccunt_place(hashval)\n",
    "        if(pos==None):\n",
    "            return\n",
    "        self.arr[pos]=val\n",
    "    \n",
    "    def __getitem__(self,key):\n",
    "        hashval=self.hashfunc(key)\n",
    "        return self.arr[hashval]\n",
    "    def __delitem__(self,key):\n",
    "        hashval=self.hashfunc(key)\n",
    "        self.arr[hashval]=None\n",
    "        "
   ]
  },
  {
   "cell_type": "code",
   "execution_count": 6,
   "id": "125626ba",
   "metadata": {},
   "outputs": [
    {
     "name": "stdout",
     "output_type": "stream",
     "text": [
      "all positions are fill\n",
      "all positions are fill\n"
     ]
    }
   ],
   "source": [
    "hashmap=Hash_Map(10)\n",
    "hashmap[101]='Ganesh'\n",
    "hashmap[120]='Prathamesh'\n",
    "hashmap[107]='mohit'\n",
    "hashmap[129]='mukesh'\n",
    "hashmap[120]='Patil'\n",
    "hashmap[111]='Mangesh'\n",
    "hashmap[189]='krishna'\n",
    "hashmap[119]='pratik'\n",
    "hashmap[189]='krishna'\n",
    "hashmap[119]='pratik'\n",
    "hashmap[189]='krishna'\n",
    "hashmap[119]='pratik'"
   ]
  },
  {
   "cell_type": "code",
   "execution_count": 7,
   "id": "e5ffae60",
   "metadata": {},
   "outputs": [
    {
     "data": {
      "text/plain": [
       "['Prathamesh',\n",
       " 'Ganesh',\n",
       " 'Patil',\n",
       " 'Mangesh',\n",
       " 'krishna',\n",
       " 'pratik',\n",
       " 'krishna',\n",
       " 'mohit',\n",
       " 'pratik',\n",
       " 'mukesh']"
      ]
     },
     "execution_count": 7,
     "metadata": {},
     "output_type": "execute_result"
    }
   ],
   "source": [
    "hashmap.arr"
   ]
  },
  {
   "cell_type": "markdown",
   "id": "c503dc83",
   "metadata": {},
   "source": [
    "# Chaning"
   ]
  },
  {
   "cell_type": "code",
   "execution_count": 88,
   "id": "52765063",
   "metadata": {},
   "outputs": [],
   "source": [
    "class Hash_Map:\n",
    "    def __init__(self,map_len):\n",
    "        self.map_len=map_len\n",
    "        self.arr=[[] for i in range(map_len)]\n",
    "    \n",
    "    def hashfunc(self,key):\n",
    "        return key%10\n",
    "    \n",
    "    def check_vaccunt_place(self,hashval,key):\n",
    "        for ind,keyval in enumerate(self.arr[hashval]):\n",
    "            if(key in keyval):\n",
    "                print(\"This key is already there\",key)\n",
    "                return 1\n",
    "        return 0\n",
    "    def update(self,key,val):\n",
    "        hashval=self.hashfunc(key)\n",
    "        for ind,keyval in enumerate(self.arr[hashval]):\n",
    "            if(key in keyval):\n",
    "                self.arr[hashval][ind]=(key,val)\n",
    "                return\n",
    "        else:\n",
    "            print(\"key is not present\")\n",
    "        \n",
    "    \n",
    "    def __setitem__(self,key,val):\n",
    "        hashval=self.hashfunc(key)\n",
    "        check_val=self.check_vaccunt_place(hashval,key)\n",
    "        if(check_val==0):\n",
    "            self.arr[hashval].append((key,val))\n",
    "    \n",
    "    def __getitem__(self,key):\n",
    "        hashval=self.hashfunc(key)\n",
    "        return self.arr[hashval]\n",
    "    def __delitem__(self,key):\n",
    "        hashval=self.hashfunc(key)\n",
    "        self.arr[hashval]=None\n",
    "        "
   ]
  },
  {
   "cell_type": "code",
   "execution_count": 89,
   "id": "8c14ae5b",
   "metadata": {},
   "outputs": [
    {
     "name": "stdout",
     "output_type": "stream",
     "text": [
      "This key is already there 120\n",
      "This key is already there 189\n",
      "This key is already there 119\n",
      "This key is already there 189\n",
      "This key is already there 119\n",
      "This key is already there 101\n",
      "This key is already there 120\n",
      "This key is already there 101\n",
      "This key is already there 120\n",
      "This key is already there 101\n",
      "This key is already there 120\n",
      "This key is already there 101\n",
      "This key is already there 120\n"
     ]
    }
   ],
   "source": [
    "hashmap=Hash_Map(10)\n",
    "hashmap[101]='Ganesh'\n",
    "hashmap[120]='Prathamesh'\n",
    "hashmap[107]='mohit'\n",
    "hashmap[129]='mukesh'\n",
    "hashmap[120]='Patil'\n",
    "hashmap[111]='Mangesh'\n",
    "hashmap[189]='krishna'\n",
    "hashmap[119]='pratik'\n",
    "hashmap[189]='krishna'\n",
    "hashmap[119]='pratik'\n",
    "hashmap[189]='krishna'\n",
    "hashmap[119]='pratik'\n",
    "hashmap[101]='Ganesh'\n",
    "hashmap[120]='Prathamesh'\n",
    "hashmap[101]='Ganesh'\n",
    "hashmap[120]='Prathamesh'\n",
    "hashmap[101]='Ganesh'\n",
    "hashmap[120]='Prathamesh'\n",
    "hashmap[101]='Ganesh'\n",
    "hashmap[120]='Prathamesh'"
   ]
  },
  {
   "cell_type": "code",
   "execution_count": 90,
   "id": "f06a36fb",
   "metadata": {},
   "outputs": [
    {
     "name": "stdout",
     "output_type": "stream",
     "text": [
      "[(120, 'Prathamesh')]\n",
      "[(101, 'Ganesh'), (111, 'Mangesh')]\n",
      "[]\n",
      "[]\n",
      "[]\n",
      "[]\n",
      "[]\n",
      "[(107, 'mohit')]\n",
      "[]\n",
      "[(129, 'mukesh'), (189, 'krishna'), (119, 'pratik')]\n"
     ]
    }
   ],
   "source": [
    "for i in hashmap.arr:\n",
    "    print(i)"
   ]
  },
  {
   "cell_type": "code",
   "execution_count": 93,
   "id": "a69fe6e9",
   "metadata": {},
   "outputs": [
    {
     "name": "stdout",
     "output_type": "stream",
     "text": [
      "key is not present\n"
     ]
    }
   ],
   "source": [
    "hashmap.update(144,'mangesh')"
   ]
  },
  {
   "cell_type": "code",
   "execution_count": 94,
   "id": "733ccd53",
   "metadata": {},
   "outputs": [
    {
     "data": {
      "text/plain": [
       "[[(120, 'Prathamesh')],\n",
       " [(101, 'Ganesh'), (111, 'Mangesh')],\n",
       " [],\n",
       " [],\n",
       " [],\n",
       " [],\n",
       " [],\n",
       " [(107, 'mohit')],\n",
       " [],\n",
       " [(129, 'mukesh'), (189, 'krishna'), (119, 'mangesh')]]"
      ]
     },
     "execution_count": 94,
     "metadata": {},
     "output_type": "execute_result"
    }
   ],
   "source": [
    "hashmap.arr"
   ]
  },
  {
   "cell_type": "code",
   "execution_count": null,
   "id": "b6e824f4",
   "metadata": {},
   "outputs": [],
   "source": []
  }
 ],
 "metadata": {
  "kernelspec": {
   "display_name": "Python 3 (ipykernel)",
   "language": "python",
   "name": "python3"
  },
  "language_info": {
   "codemirror_mode": {
    "name": "ipython",
    "version": 3
   },
   "file_extension": ".py",
   "mimetype": "text/x-python",
   "name": "python",
   "nbconvert_exporter": "python",
   "pygments_lexer": "ipython3",
   "version": "3.10.9"
  }
 },
 "nbformat": 4,
 "nbformat_minor": 5
}
